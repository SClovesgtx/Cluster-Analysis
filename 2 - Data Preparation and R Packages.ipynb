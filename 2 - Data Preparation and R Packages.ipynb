{
 "cells": [
  {
   "cell_type": "markdown",
   "metadata": {},
   "source": [
    "\n",
    "To perform a cluster analysis in R, generally, the data should be prepared as follow:\n",
    "\n",
    "1. Rows are observations (individuals) and columns are variables\n",
    "2. Any missing value in the data must be removed or estimated.\n",
    "3. The data must be standardized (i.e., scaled) to make variables comparable. Recall\n",
    "that, standardization consists of transforming the variables such that they have\n",
    "mean zero and standard deviation one. Read more about data standardization\n",
    "in chapter 3."
   ]
  },
  {
   "cell_type": "code",
   "execution_count": 1,
   "metadata": {},
   "outputs": [],
   "source": [
    "data(\"USArrests\") # Load the data set\n",
    "\n",
    "df <- USArrests\n",
    "# Use df as shorter name"
   ]
  },
  {
   "cell_type": "code",
   "execution_count": 4,
   "metadata": {},
   "outputs": [
    {
     "data": {
      "text/html": [
       "<table>\n",
       "<thead><tr><th></th><th scope=col>Murder</th><th scope=col>Assault</th><th scope=col>UrbanPop</th><th scope=col>Rape</th></tr></thead>\n",
       "<tbody>\n",
       "\t<tr><th scope=row>Alabama</th><td>13.2</td><td>236 </td><td>58  </td><td>21.2</td></tr>\n",
       "\t<tr><th scope=row>Alaska</th><td>10.0</td><td>263 </td><td>48  </td><td>44.5</td></tr>\n",
       "\t<tr><th scope=row>Arizona</th><td> 8.1</td><td>294 </td><td>80  </td><td>31.0</td></tr>\n",
       "\t<tr><th scope=row>Arkansas</th><td> 8.8</td><td>190 </td><td>50  </td><td>19.5</td></tr>\n",
       "\t<tr><th scope=row>California</th><td> 9.0</td><td>276 </td><td>91  </td><td>40.6</td></tr>\n",
       "\t<tr><th scope=row>Colorado</th><td> 7.9</td><td>204 </td><td>78  </td><td>38.7</td></tr>\n",
       "</tbody>\n",
       "</table>\n"
      ],
      "text/latex": [
       "\\begin{tabular}{r|llll}\n",
       "  & Murder & Assault & UrbanPop & Rape\\\\\n",
       "\\hline\n",
       "\tAlabama & 13.2 & 236  & 58   & 21.2\\\\\n",
       "\tAlaska & 10.0 & 263  & 48   & 44.5\\\\\n",
       "\tArizona &  8.1 & 294  & 80   & 31.0\\\\\n",
       "\tArkansas &  8.8 & 190  & 50   & 19.5\\\\\n",
       "\tCalifornia &  9.0 & 276  & 91   & 40.6\\\\\n",
       "\tColorado &  7.9 & 204  & 78   & 38.7\\\\\n",
       "\\end{tabular}\n"
      ],
      "text/markdown": [
       "\n",
       "| <!--/--> | Murder | Assault | UrbanPop | Rape | \n",
       "|---|---|---|---|---|---|\n",
       "| Alabama | 13.2 | 236  | 58   | 21.2 | \n",
       "| Alaska | 10.0 | 263  | 48   | 44.5 | \n",
       "| Arizona |  8.1 | 294  | 80   | 31.0 | \n",
       "| Arkansas |  8.8 | 190  | 50   | 19.5 | \n",
       "| California |  9.0 | 276  | 91   | 40.6 | \n",
       "| Colorado |  7.9 | 204  | 78   | 38.7 | \n",
       "\n",
       "\n"
      ],
      "text/plain": [
       "           Murder Assault UrbanPop Rape\n",
       "Alabama    13.2   236     58       21.2\n",
       "Alaska     10.0   263     48       44.5\n",
       "Arizona     8.1   294     80       31.0\n",
       "Arkansas    8.8   190     50       19.5\n",
       "California  9.0   276     91       40.6\n",
       "Colorado    7.9   204     78       38.7"
      ]
     },
     "metadata": {},
     "output_type": "display_data"
    }
   ],
   "source": [
    "head(df)"
   ]
  },
  {
   "cell_type": "code",
   "execution_count": 5,
   "metadata": {},
   "outputs": [],
   "source": [
    "# To remove any missing value that might be present in the data, type this:\n",
    "df <- na.omit(df)"
   ]
  },
  {
   "cell_type": "markdown",
   "metadata": {},
   "source": [
    "As we don’t want the clustering algorithm to depend to an arbitrary variable\n",
    "unit, we start by scaling/standardizing the data using the R function *scale()*:"
   ]
  },
  {
   "cell_type": "code",
   "execution_count": 6,
   "metadata": {},
   "outputs": [],
   "source": [
    "df <- scale(df)"
   ]
  },
  {
   "cell_type": "code",
   "execution_count": 7,
   "metadata": {},
   "outputs": [
    {
     "data": {
      "text/html": [
       "<table>\n",
       "<thead><tr><th></th><th scope=col>Murder</th><th scope=col>Assault</th><th scope=col>UrbanPop</th><th scope=col>Rape</th></tr></thead>\n",
       "<tbody>\n",
       "\t<tr><th scope=row>Alabama</th><td>1.24256408  </td><td>0.7828393   </td><td>-0.5209066  </td><td>-0.003416473</td></tr>\n",
       "\t<tr><th scope=row>Alaska</th><td>0.50786248  </td><td>1.1068225   </td><td>-1.2117642  </td><td> 2.484202941</td></tr>\n",
       "\t<tr><th scope=row>Arizona</th><td>0.07163341  </td><td>1.4788032   </td><td> 0.9989801  </td><td> 1.042878388</td></tr>\n",
       "\t<tr><th scope=row>Arkansas</th><td>0.23234938  </td><td>0.2308680   </td><td>-1.0735927  </td><td>-0.184916602</td></tr>\n",
       "\t<tr><th scope=row>California</th><td>0.27826823  </td><td>1.2628144   </td><td> 1.7589234  </td><td> 2.067820292</td></tr>\n",
       "\t<tr><th scope=row>Colorado</th><td>0.02571456  </td><td>0.3988593   </td><td> 0.8608085  </td><td> 1.864967207</td></tr>\n",
       "</tbody>\n",
       "</table>\n"
      ],
      "text/latex": [
       "\\begin{tabular}{r|llll}\n",
       "  & Murder & Assault & UrbanPop & Rape\\\\\n",
       "\\hline\n",
       "\tAlabama & 1.24256408   & 0.7828393    & -0.5209066   & -0.003416473\\\\\n",
       "\tAlaska & 0.50786248   & 1.1068225    & -1.2117642   &  2.484202941\\\\\n",
       "\tArizona & 0.07163341   & 1.4788032    &  0.9989801   &  1.042878388\\\\\n",
       "\tArkansas & 0.23234938   & 0.2308680    & -1.0735927   & -0.184916602\\\\\n",
       "\tCalifornia & 0.27826823   & 1.2628144    &  1.7589234   &  2.067820292\\\\\n",
       "\tColorado & 0.02571456   & 0.3988593    &  0.8608085   &  1.864967207\\\\\n",
       "\\end{tabular}\n"
      ],
      "text/markdown": [
       "\n",
       "| <!--/--> | Murder | Assault | UrbanPop | Rape | \n",
       "|---|---|---|---|---|---|\n",
       "| Alabama | 1.24256408   | 0.7828393    | -0.5209066   | -0.003416473 | \n",
       "| Alaska | 0.50786248   | 1.1068225    | -1.2117642   |  2.484202941 | \n",
       "| Arizona | 0.07163341   | 1.4788032    |  0.9989801   |  1.042878388 | \n",
       "| Arkansas | 0.23234938   | 0.2308680    | -1.0735927   | -0.184916602 | \n",
       "| California | 0.27826823   | 1.2628144    |  1.7589234   |  2.067820292 | \n",
       "| Colorado | 0.02571456   | 0.3988593    |  0.8608085   |  1.864967207 | \n",
       "\n",
       "\n"
      ],
      "text/plain": [
       "           Murder     Assault   UrbanPop   Rape        \n",
       "Alabama    1.24256408 0.7828393 -0.5209066 -0.003416473\n",
       "Alaska     0.50786248 1.1068225 -1.2117642  2.484202941\n",
       "Arizona    0.07163341 1.4788032  0.9989801  1.042878388\n",
       "Arkansas   0.23234938 0.2308680 -1.0735927 -0.184916602\n",
       "California 0.27826823 1.2628144  1.7589234  2.067820292\n",
       "Colorado   0.02571456 0.3988593  0.8608085  1.864967207"
      ]
     },
     "metadata": {},
     "output_type": "display_data"
    }
   ],
   "source": [
    "head(df)"
   ]
  },
  {
   "cell_type": "code",
   "execution_count": 8,
   "metadata": {},
   "outputs": [
    {
     "name": "stderr",
     "output_type": "stream",
     "text": [
      "Installing packages into ‘/home/cloves/R/x86_64-pc-linux-gnu-library/3.4’\n",
      "(as ‘lib’ is unspecified)\n",
      "also installing the dependencies ‘zip’, ‘modeltools’, ‘DEoptimR’, ‘SparseM’, ‘MatrixModels’, ‘sp’, ‘openxlsx’, ‘minqa’, ‘nloptr’, ‘mclust’, ‘flexmix’, ‘prabclus’, ‘diptest’, ‘mvtnorm’, ‘robustbase’, ‘kernlab’, ‘trimcluster’, ‘carData’, ‘pbkrtest’, ‘quantreg’, ‘maptools’, ‘rio’, ‘lme4’, ‘fpc’, ‘viridis’, ‘car’, ‘ellipse’, ‘flashClust’, ‘leaps’, ‘scatterplot3d’, ‘ggsci’, ‘cowplot’, ‘ggsignif’, ‘gridExtra’, ‘polynom’, ‘abind’, ‘dendextend’, ‘FactoMineR’, ‘ggpubr’, ‘ggrepel’\n",
      "\n"
     ]
    }
   ],
   "source": [
    "install.packages(c(\"cluster\", \"factoextra\"))"
   ]
  },
  {
   "cell_type": "markdown",
   "metadata": {},
   "source": [
    "• *cluster* for computing clustering algorithms.\n",
    "\n",
    "• *factoextra* for ggplot2-based elegant visualization of clustering results."
   ]
  }
 ],
 "metadata": {
  "kernelspec": {
   "display_name": "R",
   "language": "R",
   "name": "ir"
  },
  "language_info": {
   "codemirror_mode": "r",
   "file_extension": ".r",
   "mimetype": "text/x-r-source",
   "name": "R",
   "pygments_lexer": "r",
   "version": "3.4.4"
  }
 },
 "nbformat": 4,
 "nbformat_minor": 2
}

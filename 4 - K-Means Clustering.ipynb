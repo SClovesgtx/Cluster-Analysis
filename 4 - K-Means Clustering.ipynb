{
 "cells": [
  {
   "cell_type": "code",
   "execution_count": 6,
   "metadata": {},
   "outputs": [],
   "source": [
    "library(stats)\n",
    "library(factoextra) # fviz_nbclust"
   ]
  },
  {
   "cell_type": "markdown",
   "metadata": {},
   "source": [
    "### Data"
   ]
  },
  {
   "cell_type": "code",
   "execution_count": 1,
   "metadata": {},
   "outputs": [],
   "source": [
    "data('USArrests')"
   ]
  },
  {
   "cell_type": "code",
   "execution_count": 2,
   "metadata": {},
   "outputs": [],
   "source": [
    "df = scale(USArrests)"
   ]
  },
  {
   "cell_type": "code",
   "execution_count": 3,
   "metadata": {},
   "outputs": [
    {
     "data": {
      "text/html": [
       "<table>\n",
       "<thead><tr><th></th><th scope=col>Murder</th><th scope=col>Assault</th><th scope=col>UrbanPop</th><th scope=col>Rape</th></tr></thead>\n",
       "<tbody>\n",
       "\t<tr><th scope=row>Alabama</th><td>1.24256408  </td><td>0.7828393   </td><td>-0.5209066  </td><td>-0.003416473</td></tr>\n",
       "\t<tr><th scope=row>Alaska</th><td>0.50786248  </td><td>1.1068225   </td><td>-1.2117642  </td><td> 2.484202941</td></tr>\n",
       "\t<tr><th scope=row>Arizona</th><td>0.07163341  </td><td>1.4788032   </td><td> 0.9989801  </td><td> 1.042878388</td></tr>\n",
       "</tbody>\n",
       "</table>\n"
      ],
      "text/latex": [
       "\\begin{tabular}{r|llll}\n",
       "  & Murder & Assault & UrbanPop & Rape\\\\\n",
       "\\hline\n",
       "\tAlabama & 1.24256408   & 0.7828393    & -0.5209066   & -0.003416473\\\\\n",
       "\tAlaska & 0.50786248   & 1.1068225    & -1.2117642   &  2.484202941\\\\\n",
       "\tArizona & 0.07163341   & 1.4788032    &  0.9989801   &  1.042878388\\\\\n",
       "\\end{tabular}\n"
      ],
      "text/markdown": [
       "\n",
       "| <!--/--> | Murder | Assault | UrbanPop | Rape | \n",
       "|---|---|---|\n",
       "| Alabama | 1.24256408   | 0.7828393    | -0.5209066   | -0.003416473 | \n",
       "| Alaska | 0.50786248   | 1.1068225    | -1.2117642   |  2.484202941 | \n",
       "| Arizona | 0.07163341   | 1.4788032    |  0.9989801   |  1.042878388 | \n",
       "\n",
       "\n"
      ],
      "text/plain": [
       "        Murder     Assault   UrbanPop   Rape        \n",
       "Alabama 1.24256408 0.7828393 -0.5209066 -0.003416473\n",
       "Alaska  0.50786248 1.1068225 -1.2117642  2.484202941\n",
       "Arizona 0.07163341 1.4788032  0.9989801  1.042878388"
      ]
     },
     "metadata": {},
     "output_type": "display_data"
    }
   ],
   "source": [
    "head(df, 3)"
   ]
  },
  {
   "cell_type": "markdown",
   "metadata": {},
   "source": [
    "### Computing k-means clustering"
   ]
  },
  {
   "cell_type": "code",
   "execution_count": 7,
   "metadata": {},
   "outputs": [],
   "source": [
    "set.seed(123)\n",
    "km.res <- kmeans(df, 4, nstart = 25)"
   ]
  },
  {
   "cell_type": "markdown",
   "metadata": {},
   "source": [
    "we specify nstart = 25. This means that R will try 25 different random\n",
    "starting assignments and then select the best results corresponding to the one with\n",
    "the lowest within cluster variation. The default value of nstart in R is one. But, it’s\n",
    "strongly recommended to compute k-means clustering with a large value of nstart\n",
    "such as 25 or 50, in order to have a more stable result."
   ]
  },
  {
   "cell_type": "code",
   "execution_count": 8,
   "metadata": {},
   "outputs": [
    {
     "name": "stdout",
     "output_type": "stream",
     "text": [
      "K-means clustering with 4 clusters of sizes 13, 16, 13, 8\n",
      "\n",
      "Cluster means:\n",
      "      Murder    Assault   UrbanPop        Rape\n",
      "1 -0.9615407 -1.1066010 -0.9301069 -0.96676331\n",
      "2 -0.4894375 -0.3826001  0.5758298 -0.26165379\n",
      "3  0.6950701  1.0394414  0.7226370  1.27693964\n",
      "4  1.4118898  0.8743346 -0.8145211  0.01927104\n",
      "\n",
      "Clustering vector:\n",
      "       Alabama         Alaska        Arizona       Arkansas     California \n",
      "             4              3              3              4              3 \n",
      "      Colorado    Connecticut       Delaware        Florida        Georgia \n",
      "             3              2              2              3              4 \n",
      "        Hawaii          Idaho       Illinois        Indiana           Iowa \n",
      "             2              1              3              2              1 \n",
      "        Kansas       Kentucky      Louisiana          Maine       Maryland \n",
      "             2              1              4              1              3 \n",
      " Massachusetts       Michigan      Minnesota    Mississippi       Missouri \n",
      "             2              3              1              4              3 \n",
      "       Montana       Nebraska         Nevada  New Hampshire     New Jersey \n",
      "             1              1              3              1              2 \n",
      "    New Mexico       New York North Carolina   North Dakota           Ohio \n",
      "             3              3              4              1              2 \n",
      "      Oklahoma         Oregon   Pennsylvania   Rhode Island South Carolina \n",
      "             2              2              2              2              4 \n",
      "  South Dakota      Tennessee          Texas           Utah        Vermont \n",
      "             1              4              3              2              1 \n",
      "      Virginia     Washington  West Virginia      Wisconsin        Wyoming \n",
      "             2              2              1              1              2 \n",
      "\n",
      "Within cluster sum of squares by cluster:\n",
      "[1] 11.952463 16.212213 19.922437  8.316061\n",
      " (between_SS / total_SS =  71.2 %)\n",
      "\n",
      "Available components:\n",
      "\n",
      "[1] \"cluster\"      \"centers\"      \"totss\"        \"withinss\"     \"tot.withinss\"\n",
      "[6] \"betweenss\"    \"size\"         \"iter\"         \"ifault\"      \n"
     ]
    }
   ],
   "source": [
    "print(km.res)"
   ]
  },
  {
   "cell_type": "code",
   "execution_count": 9,
   "metadata": {},
   "outputs": [],
   "source": [
    "dd <- cbind(USArrests, cluster = km.res$cluster)"
   ]
  },
  {
   "cell_type": "code",
   "execution_count": 10,
   "metadata": {},
   "outputs": [
    {
     "data": {
      "text/html": [
       "<table>\n",
       "<thead><tr><th></th><th scope=col>Murder</th><th scope=col>Assault</th><th scope=col>UrbanPop</th><th scope=col>Rape</th><th scope=col>cluster</th></tr></thead>\n",
       "<tbody>\n",
       "\t<tr><th scope=row>Alabama</th><td>13.2</td><td>236 </td><td>58  </td><td>21.2</td><td>4   </td></tr>\n",
       "\t<tr><th scope=row>Alaska</th><td>10.0</td><td>263 </td><td>48  </td><td>44.5</td><td>3   </td></tr>\n",
       "\t<tr><th scope=row>Arizona</th><td> 8.1</td><td>294 </td><td>80  </td><td>31.0</td><td>3   </td></tr>\n",
       "\t<tr><th scope=row>Arkansas</th><td> 8.8</td><td>190 </td><td>50  </td><td>19.5</td><td>4   </td></tr>\n",
       "\t<tr><th scope=row>California</th><td> 9.0</td><td>276 </td><td>91  </td><td>40.6</td><td>3   </td></tr>\n",
       "\t<tr><th scope=row>Colorado</th><td> 7.9</td><td>204 </td><td>78  </td><td>38.7</td><td>3   </td></tr>\n",
       "</tbody>\n",
       "</table>\n"
      ],
      "text/latex": [
       "\\begin{tabular}{r|lllll}\n",
       "  & Murder & Assault & UrbanPop & Rape & cluster\\\\\n",
       "\\hline\n",
       "\tAlabama & 13.2 & 236  & 58   & 21.2 & 4   \\\\\n",
       "\tAlaska & 10.0 & 263  & 48   & 44.5 & 3   \\\\\n",
       "\tArizona &  8.1 & 294  & 80   & 31.0 & 3   \\\\\n",
       "\tArkansas &  8.8 & 190  & 50   & 19.5 & 4   \\\\\n",
       "\tCalifornia &  9.0 & 276  & 91   & 40.6 & 3   \\\\\n",
       "\tColorado &  7.9 & 204  & 78   & 38.7 & 3   \\\\\n",
       "\\end{tabular}\n"
      ],
      "text/markdown": [
       "\n",
       "| <!--/--> | Murder | Assault | UrbanPop | Rape | cluster | \n",
       "|---|---|---|---|---|---|\n",
       "| Alabama | 13.2 | 236  | 58   | 21.2 | 4    | \n",
       "| Alaska | 10.0 | 263  | 48   | 44.5 | 3    | \n",
       "| Arizona |  8.1 | 294  | 80   | 31.0 | 3    | \n",
       "| Arkansas |  8.8 | 190  | 50   | 19.5 | 4    | \n",
       "| California |  9.0 | 276  | 91   | 40.6 | 3    | \n",
       "| Colorado |  7.9 | 204  | 78   | 38.7 | 3    | \n",
       "\n",
       "\n"
      ],
      "text/plain": [
       "           Murder Assault UrbanPop Rape cluster\n",
       "Alabama    13.2   236     58       21.2 4      \n",
       "Alaska     10.0   263     48       44.5 3      \n",
       "Arizona     8.1   294     80       31.0 3      \n",
       "Arkansas    8.8   190     50       19.5 4      \n",
       "California  9.0   276     91       40.6 3      \n",
       "Colorado    7.9   204     78       38.7 3      "
      ]
     },
     "metadata": {},
     "output_type": "display_data"
    }
   ],
   "source": [
    "head(dd)"
   ]
  },
  {
   "cell_type": "code",
   "execution_count": null,
   "metadata": {},
   "outputs": [],
   "source": []
  }
 ],
 "metadata": {
  "kernelspec": {
   "display_name": "R",
   "language": "R",
   "name": "ir"
  },
  "language_info": {
   "codemirror_mode": "r",
   "file_extension": ".r",
   "mimetype": "text/x-r-source",
   "name": "R",
   "pygments_lexer": "r",
   "version": "3.4.4"
  }
 },
 "nbformat": 4,
 "nbformat_minor": 2
}

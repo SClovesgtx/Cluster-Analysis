{
 "cells": [
  {
   "cell_type": "markdown",
   "metadata": {},
   "source": [
    "The classification of observations into groups requires some methods for computing\n",
    "the distance or the (dis)similarity between each pair of observations. The result of\n",
    "this computation is known as a dissimilarity or distance matrix."
   ]
  },
  {
   "cell_type": "markdown",
   "metadata": {},
   "source": [
    "* [Euclidean distance](https://en.wikipedia.org/wiki/Euclidean_distance)\n",
    "\n",
    "* [Manhattan distance](http://artis.imag.fr/~Xavier.Decoret/resources/maths/manhattan/html/)\n",
    "\n",
    "* [Pearson correlation distance](https://en.wikipedia.org/wiki/Pearson_correlation_coefficient)\n",
    "\n",
    "* [Eisen cosine correlation distance](https://en.wikipedia.org/wiki/Cosine_similarity)\n",
    "\n",
    "* [Spearman correlation](https://en.wikipedia.org/wiki/Spearman%27s_rank_correlation_coefficient)\n",
    "\n",
    "* [Kendall correlation](https://en.wikipedia.org/wiki/Kendall_rank_correlation_coefficient)"
   ]
  },
  {
   "cell_type": "markdown",
   "metadata": {},
   "source": [
    "# Distance matrix computation"
   ]
  },
  {
   "cell_type": "code",
   "execution_count": 1,
   "metadata": {},
   "outputs": [],
   "source": [
    "set.seed(123)"
   ]
  },
  {
   "cell_type": "code",
   "execution_count": 2,
   "metadata": {},
   "outputs": [],
   "source": [
    "ss = sample(1:50, 15) # Take 15 random rows"
   ]
  },
  {
   "cell_type": "code",
   "execution_count": 5,
   "metadata": {},
   "outputs": [],
   "source": [
    "df = USArrests[ss, ]"
   ]
  },
  {
   "cell_type": "code",
   "execution_count": 6,
   "metadata": {},
   "outputs": [],
   "source": [
    "df.scale = scale(df)"
   ]
  },
  {
   "cell_type": "markdown",
   "metadata": {},
   "source": [
    "To compute Euclidean distance, you can use the R base dist() function, as follow:"
   ]
  },
  {
   "cell_type": "code",
   "execution_count": 7,
   "metadata": {},
   "outputs": [],
   "source": [
    "dist.eucl = dist(df.scale, method = \"euclidean\")"
   ]
  },
  {
   "cell_type": "code",
   "execution_count": 8,
   "metadata": {},
   "outputs": [
    {
     "data": {
      "text/plain": [
       "                  Iowa Rhode Island  Maryland Tennessee      Utah   Arizona\n",
       "Rhode Island 2.7557930                                                     \n",
       "Maryland     4.0885596    3.5743582                                        \n",
       "Tennessee    3.3275375    3.6910831 1.5468531                              \n",
       "Utah         2.3948043    1.9506810 2.9706730 2.7625656                    \n",
       "Arizona      4.3066195    3.2821533 1.2558695 2.3641071 2.5306160          \n",
       "Mississippi  3.9360579    4.4477713 2.4476788 1.9531252 4.2260379 3.6466475\n",
       "Wisconsin    0.7020519    2.2135847 4.0368314 3.3665176 1.9897810 4.1087501\n",
       "Virginia     2.1434429    2.5998851 2.0513004 1.3065227 1.7690823 2.4638737\n",
       "Maine        0.7064899    2.9996750 4.2103160 3.5114430 2.9233689 4.5639875\n",
       "Texas        3.6987718    2.8668715 1.6151724 1.6384074 2.1826658 1.6067554\n",
       "Louisiana    3.8521181    3.4848278 1.2377930 1.1655217 3.1188595 2.1832427\n",
       "Montana      1.2155510    2.9528869 3.0956064 2.2030264 2.2983159 3.5566655\n",
       "Michigan     4.4464336    3.9316187 1.1776784 1.7383476 2.8814153 1.1563238\n",
       "Arkansas     2.3874582    3.3439115 2.1809872 1.4376129 2.7430331 2.9796323\n",
       "             Mississippi Wisconsin  Virginia     Maine     Texas Louisiana\n",
       "Rhode Island                                                              \n",
       "Maryland                                                                  \n",
       "Tennessee                                                                 \n",
       "Utah                                                                      \n",
       "Arizona                                                                   \n",
       "Mississippi                                                               \n",
       "Wisconsin      4.1453934                                                  \n",
       "Virginia       2.5031936 2.1126837                                        \n",
       "Maine          3.7611531 1.2690351 2.3930391                              \n",
       "Texas          3.1132908 3.4209767 1.7528104 4.0232822                    \n",
       "Louisiana      1.8130779 3.7768969 1.8204173 3.9562110 1.4004314          \n",
       "Montana        2.8267992 1.5474157 1.2016321 1.3475687 2.9357666 2.8293959\n",
       "Michigan       3.2696289 4.3175321 2.3865102 4.7312407 1.4112892 1.7993170\n",
       "Arkansas       1.7842464 2.6386820 1.0952669 2.3483996 2.5514833 1.9812718\n",
       "               Montana  Michigan\n",
       "Rhode Island                    \n",
       "Maryland                        \n",
       "Tennessee                       \n",
       "Utah                            \n",
       "Arizona                         \n",
       "Mississippi                     \n",
       "Wisconsin                       \n",
       "Virginia                        \n",
       "Maine                           \n",
       "Texas                           \n",
       "Louisiana                       \n",
       "Montana                         \n",
       "Michigan     3.5141230          \n",
       "Arkansas     1.2176545 2.8304619"
      ]
     },
     "metadata": {},
     "output_type": "display_data"
    }
   ],
   "source": [
    "dist.eucl"
   ]
  },
  {
   "cell_type": "code",
   "execution_count": 9,
   "metadata": {},
   "outputs": [
    {
     "data": {
      "text/html": [
       "<table>\n",
       "<thead><tr><th></th><th scope=col>Iowa</th><th scope=col>Rhode Island</th><th scope=col>Maryland</th></tr></thead>\n",
       "<tbody>\n",
       "\t<tr><th scope=row>Iowa</th><td>0.0</td><td>2.8</td><td>4.1</td></tr>\n",
       "\t<tr><th scope=row>Rhode Island</th><td>2.8</td><td>0.0</td><td>3.6</td></tr>\n",
       "\t<tr><th scope=row>Maryland</th><td>4.1</td><td>3.6</td><td>0.0</td></tr>\n",
       "</tbody>\n",
       "</table>\n"
      ],
      "text/latex": [
       "\\begin{tabular}{r|lll}\n",
       "  & Iowa & Rhode Island & Maryland\\\\\n",
       "\\hline\n",
       "\tIowa & 0.0 & 2.8 & 4.1\\\\\n",
       "\tRhode Island & 2.8 & 0.0 & 3.6\\\\\n",
       "\tMaryland & 4.1 & 3.6 & 0.0\\\\\n",
       "\\end{tabular}\n"
      ],
      "text/markdown": [
       "\n",
       "| <!--/--> | Iowa | Rhode Island | Maryland | \n",
       "|---|---|---|\n",
       "| Iowa | 0.0 | 2.8 | 4.1 | \n",
       "| Rhode Island | 2.8 | 0.0 | 3.6 | \n",
       "| Maryland | 4.1 | 3.6 | 0.0 | \n",
       "\n",
       "\n"
      ],
      "text/plain": [
       "             Iowa Rhode Island Maryland\n",
       "Iowa         0.0  2.8          4.1     \n",
       "Rhode Island 2.8  0.0          3.6     \n",
       "Maryland     4.1  3.6          0.0     "
      ]
     },
     "metadata": {},
     "output_type": "display_data"
    }
   ],
   "source": [
    "# Reformat as a matrix\n",
    "# Subset the first 3 columns and rows and Round the values\n",
    "round(as.matrix(dist.eucl)[1:3, 1:3], 1)"
   ]
  },
  {
   "cell_type": "markdown",
   "metadata": {},
   "source": [
    "## Computing correlation based distances"
   ]
  },
  {
   "cell_type": "code",
   "execution_count": 10,
   "metadata": {},
   "outputs": [
    {
     "name": "stderr",
     "output_type": "stream",
     "text": [
      "Loading required package: ggplot2\n",
      "Welcome! Related Books: `Practical Guide To Cluster Analysis in R` at https://goo.gl/13EFCZ\n"
     ]
    }
   ],
   "source": [
    "library(\"factoextra\")"
   ]
  },
  {
   "cell_type": "code",
   "execution_count": 12,
   "metadata": {},
   "outputs": [],
   "source": [
    "dist.cor <- get_dist(df.scale, method = \"pearson\")"
   ]
  },
  {
   "cell_type": "code",
   "execution_count": 13,
   "metadata": {},
   "outputs": [
    {
     "data": {
      "text/plain": [
       "                   Iowa Rhode Island   Maryland  Tennessee       Utah\n",
       "Rhode Island 0.39284182                                              \n",
       "Maryland     1.88323808   1.48124956                                 \n",
       "Tennessee    1.51104538   1.95724833 0.73275637                      \n",
       "Utah         0.10172943   0.39649801 1.58735835 1.63796515           \n",
       "Arizona      0.89643432   0.70873731 0.62996195 1.54924589 0.47335304\n",
       "Mississippi  1.88828067   1.63047384 0.42964555 0.33013745 1.99902039\n",
       "Wisconsin    0.03397220   0.22543935 1.88502852 1.65774350 0.15995476\n",
       "Virginia     0.84488289   1.66338138 1.32301819 0.23171322 1.04250427\n",
       "Maine        0.79373668   0.13229609 1.25215664 1.78623995 0.87221024\n",
       "Texas        0.13294458   0.53490262 1.99943383 1.24466481 0.44007040\n",
       "Louisiana    1.71026047   1.46307561 0.70139207 0.41080771 1.94546879\n",
       "Montana      1.28105707   1.91441885 0.91474121 0.03590417 1.41264198\n",
       "Michigan     1.10318723   1.65000415 0.65137671 0.52872771 0.85836307\n",
       "Arkansas     1.93694159   1.84486032 0.21444766 0.22771478 1.88379100\n",
       "                Arizona Mississippi  Wisconsin   Virginia      Maine      Texas\n",
       "Rhode Island                                                                   \n",
       "Maryland                                                                       \n",
       "Tennessee                                                                      \n",
       "Utah                                                                           \n",
       "Arizona                                                                        \n",
       "Mississippi  1.54844760                                                        \n",
       "Wisconsin    0.93085531  1.83904622                                            \n",
       "Virginia     1.50433835  0.91334724 1.04888744                                 \n",
       "Maine        0.98656209  1.16126121 0.54945796 1.78375398                      \n",
       "Texas        1.40105329  1.54243155 0.12953731 0.66455004 0.75037196           \n",
       "Louisiana    1.75426983  0.05192698 1.62260187 0.89013243 0.97985871 1.26682924\n",
       "Montana      1.49970477  0.54882648 1.47102692 0.09638227 1.87117264 1.06724393\n",
       "Michigan     0.58943546  1.11954102 1.34374458 0.48344739 1.90526244 1.35997487\n",
       "Arkansas     1.23370270  0.11068503 1.98328683 0.80417038 1.50658241 1.76652553\n",
       "              Louisiana    Montana   Michigan\n",
       "Rhode Island                                 \n",
       "Maryland                                     \n",
       "Tennessee                                    \n",
       "Utah                                         \n",
       "Arizona                                      \n",
       "Mississippi                                  \n",
       "Wisconsin                                    \n",
       "Virginia                                     \n",
       "Maine                                        \n",
       "Texas                                        \n",
       "Louisiana                                    \n",
       "Montana      0.61411025                      \n",
       "Michigan     1.36483102 0.41994201           \n",
       "Arkansas     0.29342437 0.40334920 0.67231284"
      ]
     },
     "metadata": {},
     "output_type": "display_data"
    }
   ],
   "source": [
    "dist.cor"
   ]
  },
  {
   "cell_type": "code",
   "execution_count": 14,
   "metadata": {},
   "outputs": [
    {
     "data": {
      "text/html": [
       "<table>\n",
       "<thead><tr><th></th><th scope=col>Iowa</th><th scope=col>Rhode Island</th><th scope=col>Maryland</th></tr></thead>\n",
       "<tbody>\n",
       "\t<tr><th scope=row>Iowa</th><td>0.0</td><td>0.4</td><td>1.9</td></tr>\n",
       "\t<tr><th scope=row>Rhode Island</th><td>0.4</td><td>0.0</td><td>1.5</td></tr>\n",
       "\t<tr><th scope=row>Maryland</th><td>1.9</td><td>1.5</td><td>0.0</td></tr>\n",
       "</tbody>\n",
       "</table>\n"
      ],
      "text/latex": [
       "\\begin{tabular}{r|lll}\n",
       "  & Iowa & Rhode Island & Maryland\\\\\n",
       "\\hline\n",
       "\tIowa & 0.0 & 0.4 & 1.9\\\\\n",
       "\tRhode Island & 0.4 & 0.0 & 1.5\\\\\n",
       "\tMaryland & 1.9 & 1.5 & 0.0\\\\\n",
       "\\end{tabular}\n"
      ],
      "text/markdown": [
       "\n",
       "| <!--/--> | Iowa | Rhode Island | Maryland | \n",
       "|---|---|---|\n",
       "| Iowa | 0.0 | 0.4 | 1.9 | \n",
       "| Rhode Island | 0.4 | 0.0 | 1.5 | \n",
       "| Maryland | 1.9 | 1.5 | 0.0 | \n",
       "\n",
       "\n"
      ],
      "text/plain": [
       "             Iowa Rhode Island Maryland\n",
       "Iowa         0.0  0.4          1.9     \n",
       "Rhode Island 0.4  0.0          1.5     \n",
       "Maryland     1.9  1.5          0.0     "
      ]
     },
     "metadata": {},
     "output_type": "display_data"
    }
   ],
   "source": [
    "# Display a subset\n",
    "round(as.matrix(dist.cor)[1:3, 1:3], 1)"
   ]
  },
  {
   "cell_type": "markdown",
   "metadata": {},
   "source": [
    "## Computing distances for mixed data"
   ]
  },
  {
   "cell_type": "code",
   "execution_count": 15,
   "metadata": {},
   "outputs": [
    {
     "data": {
      "text/html": [
       "<table>\n",
       "<thead><tr><th scope=col>V1</th><th scope=col>V2</th><th scope=col>V3</th><th scope=col>V4</th><th scope=col>V5</th><th scope=col>V6</th><th scope=col>V7</th><th scope=col>V8</th></tr></thead>\n",
       "<tbody>\n",
       "\t<tr><td>0  </td><td>1  </td><td>1  </td><td>4  </td><td>3  </td><td>15 </td><td> 25</td><td>15 </td></tr>\n",
       "\t<tr><td>1  </td><td>0  </td><td>0  </td><td>2  </td><td>1  </td><td>3  </td><td>150</td><td>50 </td></tr>\n",
       "\t<tr><td>0  </td><td>1  </td><td>0  </td><td>3  </td><td>3  </td><td>1  </td><td>150</td><td>50 </td></tr>\n",
       "</tbody>\n",
       "</table>\n"
      ],
      "text/latex": [
       "\\begin{tabular}{r|llllllll}\n",
       " V1 & V2 & V3 & V4 & V5 & V6 & V7 & V8\\\\\n",
       "\\hline\n",
       "\t 0   & 1   & 1   & 4   & 3   & 15  &  25 & 15 \\\\\n",
       "\t 1   & 0   & 0   & 2   & 1   & 3   & 150 & 50 \\\\\n",
       "\t 0   & 1   & 0   & 3   & 3   & 1   & 150 & 50 \\\\\n",
       "\\end{tabular}\n"
      ],
      "text/markdown": [
       "\n",
       "V1 | V2 | V3 | V4 | V5 | V6 | V7 | V8 | \n",
       "|---|---|---|\n",
       "| 0   | 1   | 1   | 4   | 3   | 15  |  25 | 15  | \n",
       "| 1   | 0   | 0   | 2   | 1   | 3   | 150 | 50  | \n",
       "| 0   | 1   | 0   | 3   | 3   | 1   | 150 | 50  | \n",
       "\n",
       "\n"
      ],
      "text/plain": [
       "  V1 V2 V3 V4 V5 V6 V7  V8\n",
       "1 0  1  1  4  3  15  25 15\n",
       "2 1  0  0  2  1  3  150 50\n",
       "3 0  1  0  3  3  1  150 50"
      ]
     },
     "metadata": {},
     "output_type": "display_data"
    }
   ],
   "source": [
    "library(cluster)\n",
    "# Load data\n",
    "data(flower)\n",
    "head(flower, 3)"
   ]
  },
  {
   "cell_type": "code",
   "execution_count": 16,
   "metadata": {},
   "outputs": [
    {
     "name": "stdout",
     "output_type": "stream",
     "text": [
      "'data.frame':\t18 obs. of  8 variables:\n",
      " $ V1: Factor w/ 2 levels \"0\",\"1\": 1 2 1 1 1 1 1 1 2 2 ...\n",
      " $ V2: Factor w/ 2 levels \"0\",\"1\": 2 1 2 1 2 2 1 1 2 2 ...\n",
      " $ V3: Factor w/ 2 levels \"0\",\"1\": 2 1 1 2 1 1 1 2 1 1 ...\n",
      " $ V4: Factor w/ 5 levels \"1\",\"2\",\"3\",\"4\",..: 4 2 3 4 5 4 4 2 3 5 ...\n",
      " $ V5: Ord.factor w/ 3 levels \"1\"<\"2\"<\"3\": 3 1 3 2 2 3 3 2 1 2 ...\n",
      " $ V6: Ord.factor w/ 18 levels \"1\"<\"2\"<\"3\"<\"4\"<..: 15 3 1 16 2 12 13 7 4 14 ...\n",
      " $ V7: num  25 150 150 125 20 50 40 100 25 100 ...\n",
      " $ V8: num  15 50 50 50 15 40 20 15 15 60 ...\n"
     ]
    }
   ],
   "source": [
    "# Data structure\n",
    "str(flower)"
   ]
  },
  {
   "cell_type": "code",
   "execution_count": 17,
   "metadata": {},
   "outputs": [
    {
     "data": {
      "text/html": [
       "<table>\n",
       "<thead><tr><th></th><th scope=col>1</th><th scope=col>2</th><th scope=col>3</th></tr></thead>\n",
       "<tbody>\n",
       "\t<tr><th scope=row>1</th><td>0.00</td><td>0.89</td><td>0.53</td></tr>\n",
       "\t<tr><th scope=row>2</th><td>0.89</td><td>0.00</td><td>0.51</td></tr>\n",
       "\t<tr><th scope=row>3</th><td>0.53</td><td>0.51</td><td>0.00</td></tr>\n",
       "</tbody>\n",
       "</table>\n"
      ],
      "text/latex": [
       "\\begin{tabular}{r|lll}\n",
       "  & 1 & 2 & 3\\\\\n",
       "\\hline\n",
       "\t1 & 0.00 & 0.89 & 0.53\\\\\n",
       "\t2 & 0.89 & 0.00 & 0.51\\\\\n",
       "\t3 & 0.53 & 0.51 & 0.00\\\\\n",
       "\\end{tabular}\n"
      ],
      "text/markdown": [
       "\n",
       "| <!--/--> | 1 | 2 | 3 | \n",
       "|---|---|---|\n",
       "| 1 | 0.00 | 0.89 | 0.53 | \n",
       "| 2 | 0.89 | 0.00 | 0.51 | \n",
       "| 3 | 0.53 | 0.51 | 0.00 | \n",
       "\n",
       "\n"
      ],
      "text/plain": [
       "  1    2    3   \n",
       "1 0.00 0.89 0.53\n",
       "2 0.89 0.00 0.51\n",
       "3 0.53 0.51 0.00"
      ]
     },
     "metadata": {},
     "output_type": "display_data"
    }
   ],
   "source": [
    "# Distance matrix\n",
    "dd <- daisy(flower)\n",
    "round(as.matrix(dd)[1:3, 1:3], 2)"
   ]
  },
  {
   "cell_type": "markdown",
   "metadata": {},
   "source": [
    "## Visualizing distance matrices"
   ]
  },
  {
   "cell_type": "code",
   "execution_count": 18,
   "metadata": {},
   "outputs": [
    {
     "data": {},
     "metadata": {},
     "output_type": "display_data"
    },
    {
     "data": {
      "image/png": "[encoded data removed]",
      "text/plain": [
       "plot without title"
      ]
     },
     "metadata": {},
     "output_type": "display_data"
    }
   ],
   "source": [
    "library(factoextra)\n",
    "fviz_dist(dist.eucl)"
   ]
  },
  {
   "cell_type": "code",
   "execution_count": null,
   "metadata": {},
   "outputs": [],
   "source": []
  }
 ],
 "metadata": {
  "kernelspec": {
   "display_name": "R",
   "language": "R",
   "name": "ir"
  },
  "language_info": {
   "codemirror_mode": "r",
   "file_extension": ".r",
   "mimetype": "text/x-r-source",
   "name": "R",
   "pygments_lexer": "r",
   "version": "3.4.4"
  }
 },
 "nbformat": 4,
 "nbformat_minor": 2
}
